{
 "cells": [
  {
   "cell_type": "code",
   "execution_count": null,
   "metadata": {},
   "outputs": [],
   "source": [
    "%cd .."
   ]
  },
  {
   "cell_type": "code",
   "execution_count": null,
   "metadata": {},
   "outputs": [],
   "source": [
    "import requests\n",
    "import requests.exceptions\n",
    "import time"
   ]
  },
  {
   "cell_type": "markdown",
   "metadata": {},
   "source": [
    "# Work with API"
   ]
  },
  {
   "cell_type": "markdown",
   "metadata": {},
   "source": [
    "## Projects"
   ]
  },
  {
   "cell_type": "markdown",
   "metadata": {},
   "source": [
    "### List projects\n",
    "\n",
    "Here we get default projects list. It contains just one - default - project."
   ]
  },
  {
   "cell_type": "code",
   "execution_count": null,
   "metadata": {},
   "outputs": [],
   "source": [
    "projects = requests.get('http://0.0.0.0:8080/projects')\n",
    "projects.json() # there is default (blank) project "
   ]
  },
  {
   "cell_type": "markdown",
   "metadata": {},
   "source": [
    "### Create new project\n",
    "\n",
    "Let's create new project and work with it"
   ]
  },
  {
   "cell_type": "code",
   "execution_count": null,
   "metadata": {},
   "outputs": [],
   "source": [
    "create_project = requests.post('http://0.0.0.0:8080/projects', data={'project': 'Demo'})\n",
    "create_project.json()"
   ]
  },
  {
   "cell_type": "markdown",
   "metadata": {},
   "source": [
    "and now get projects list again"
   ]
  },
  {
   "cell_type": "code",
   "execution_count": null,
   "metadata": {},
   "outputs": [],
   "source": [
    "requests.get('http://0.0.0.0:8080/projects').json()"
   ]
  },
  {
   "cell_type": "markdown",
   "metadata": {},
   "source": [
    "As you can see, new project **Demo** is created: id = 2, mlflowUri = http://0.0.0.0:5001"
   ]
  },
  {
   "cell_type": "markdown",
   "metadata": {},
   "source": [
    "### Run project\n",
    "To communicate with project **Demo** run it."
   ]
  },
  {
   "cell_type": "code",
   "execution_count": null,
   "metadata": {},
   "outputs": [],
   "source": [
    "run_project = requests.put('http://0.0.0.0:8080/projects/2/run')\n",
    "run_project.status_code"
   ]
  },
  {
   "cell_type": "markdown",
   "metadata": {},
   "source": [
    "### Run examples - machine learning scripts\n",
    "\n",
    "As projects was run you can work with it.\n",
    "You can observe scripts before running."
   ]
  },
  {
   "cell_type": "code",
   "execution_count": null,
   "metadata": {},
   "outputs": [],
   "source": [
    "# Wait while project's tracking server starting (MLflow tracking server take some time to start)\n",
    "\n",
    "while True:\n",
    "    print('Try to connect...')\n",
    "    \n",
    "    response = requests.get('http://0.0.0.0:8080/projects/2/ping')\n",
    "    \n",
    "    if response.status_code == 200:\n",
    "        print('connected!')\n",
    "        break\n",
    "    \n",
    "    time.sleep(1)\n"
   ]
  },
  {
   "cell_type": "code",
   "execution_count": null,
   "metadata": {},
   "outputs": [],
   "source": [
    "%%bash\n",
    "\n",
    "# Set tracking server URI - from project **Demo**\n",
    "export MLFLOW_TRACKING_URI=http://0.0.0.0:5001\n",
    "\n",
    "# Run examples. Consider each script as some ML-project entrypoint script or stage of ML-pipeline\n",
    "\n",
    "# example1 \n",
    "python example1.py\n",
    "\n",
    "# example2 with default parameters\n",
    "python example2.py\n",
    "\n",
    "# example2 with parameters\n",
    "python example2.py --C 0.1 --solver newton-cg\n",
    "\n",
    "# example3 with default parameters\n",
    "python example3.py\n",
    "\n",
    "# example3 with parameters\n",
    "python example3.py --C 0.1 --kernel linear"
   ]
  },
  {
   "cell_type": "code",
   "execution_count": null,
   "metadata": {},
   "outputs": [],
   "source": []
  },
  {
   "cell_type": "markdown",
   "metadata": {},
   "source": [
    "## Experiments\n",
    "\n",
    "In previous section:\n",
    "\n",
    "* new project was created and run;\n",
    "* some scripts was executed.\n",
    "\n",
    "So now we have several experiments and runs."
   ]
  },
  {
   "cell_type": "markdown",
   "metadata": {},
   "source": [
    "### List experiments"
   ]
  },
  {
   "cell_type": "code",
   "execution_count": null,
   "metadata": {},
   "outputs": [],
   "source": [
    "experiments = requests.get('http://0.0.0.0:8080/experiments?project_id=2')\n",
    "experiments.json()"
   ]
  },
  {
   "cell_type": "markdown",
   "metadata": {},
   "source": [
    "## Runs"
   ]
  },
  {
   "cell_type": "markdown",
   "metadata": {},
   "source": [
    "### List runs\n",
    "\n",
    "Get runs for experiment **IrisLogreg** of project **Demo**"
   ]
  },
  {
   "cell_type": "code",
   "execution_count": null,
   "metadata": {},
   "outputs": [],
   "source": [
    "runs = requests.get('http://0.0.0.0:8080/runs?project_id=2&experiment_id=1')\n",
    "runs.json()"
   ]
  },
  {
   "cell_type": "markdown",
   "metadata": {},
   "source": [
    "## Registered Models\n",
    "\n",
    "In scripts `example2.py` and `example3.py` registred models are created:   \n",
    "when models are built records about them are added into Model Registry using **MLflow** API"
   ]
  },
  {
   "cell_type": "markdown",
   "metadata": {},
   "source": [
    "### List registered models"
   ]
  },
  {
   "cell_type": "code",
   "execution_count": null,
   "metadata": {},
   "outputs": [],
   "source": [
    "registered_models = requests.get('http://0.0.0.0:8080/registered-models?project_id=2')\n",
    "registered_models.json()"
   ]
  },
  {
   "cell_type": "markdown",
   "metadata": {},
   "source": [
    "### List model versions\n",
    "Each model has several versions.  \n",
    "Get all versions of all registered models in project **Demo**"
   ]
  },
  {
   "cell_type": "code",
   "execution_count": null,
   "metadata": {},
   "outputs": [],
   "source": [
    "# by defualt - all model version for project\n",
    "model_versions = requests.get('http://0.0.0.0:8080/model-versions?project_id=2')\n",
    "model_versions.json()"
   ]
  },
  {
   "cell_type": "markdown",
   "metadata": {},
   "source": [
    "also you can get versions for specific registered model by *model_id*:"
   ]
  },
  {
   "cell_type": "code",
   "execution_count": null,
   "metadata": {},
   "outputs": [],
   "source": [
    "iris_logreg_model_versions = requests.get(\n",
    "    'http://0.0.0.0:8080/model-versions?project_id=2&model_id=IrisLogregModel')\n",
    "iris_logreg_model_versions.json()"
   ]
  },
  {
   "cell_type": "markdown",
   "metadata": {},
   "source": [
    "## Deployments\n",
    "There is some registered models and its versions.   \n",
    "Let's deploy one model version."
   ]
  },
  {
   "cell_type": "markdown",
   "metadata": {},
   "source": [
    "### List deployments\n",
    "Make sure no deployments by default"
   ]
  },
  {
   "cell_type": "code",
   "execution_count": null,
   "metadata": {},
   "outputs": [],
   "source": [
    "deployments = requests.get('http://0.0.0.0:8080/deployments')\n",
    "deployments.json()"
   ]
  },
  {
   "cell_type": "markdown",
   "metadata": {},
   "source": [
    "### Create deployment"
   ]
  },
  {
   "cell_type": "code",
   "execution_count": null,
   "metadata": {},
   "outputs": [],
   "source": [
    "create_deployment = requests.post(\n",
    "    'http://0.0.0.0:8080/deployments?project_id=2&model_id=IrisLogregModel&version=2&type=local',\n",
    ")\n",
    "create_deployment.json()"
   ]
  },
  {
   "cell_type": "markdown",
   "metadata": {},
   "source": [
    "list deployments again"
   ]
  },
  {
   "cell_type": "code",
   "execution_count": null,
   "metadata": {},
   "outputs": [],
   "source": [
    "requests.get('http://0.0.0.0:8080/deployments').json()"
   ]
  },
  {
   "cell_type": "markdown",
   "metadata": {},
   "source": [
    "## Predict\n",
    "If deployment is running you can predict data."
   ]
  },
  {
   "cell_type": "code",
   "execution_count": null,
   "metadata": {},
   "outputs": [],
   "source": [
    "# Wait while model server starting (MLflow model server take some time to start)\n",
    "\n",
    "while True:\n",
    "    print('Try to connect...')\n",
    "    \n",
    "    response = requests.get('http://0.0.0.0:8080/deployments/1/ping')\n",
    "    \n",
    "    if response.status_code == 200:\n",
    "        print('connected!')\n",
    "        break\n",
    "    \n",
    "    time.sleep(1)"
   ]
  },
  {
   "cell_type": "code",
   "execution_count": null,
   "metadata": {},
   "outputs": [],
   "source": [
    "predict = requests.post('http://0.0.0.0:8080/deployments/1/predict', data={'data': '[[1,2,3,4], [5,6,7,8]]'})\n",
    "predict.json()"
   ]
  },
  {
   "cell_type": "markdown",
   "metadata": {},
   "source": [
    "## Stop deployment"
   ]
  },
  {
   "cell_type": "code",
   "execution_count": null,
   "metadata": {},
   "outputs": [],
   "source": [
    "stop_deployment = requests.put('http://0.0.0.0:8080/deployments/1/stop')\n",
    "stop_deployment.json()"
   ]
  },
  {
   "cell_type": "code",
   "execution_count": null,
   "metadata": {},
   "outputs": [],
   "source": [
    "# list deployments again\n",
    "requests.get('http://0.0.0.0:8080/deployments').json()"
   ]
  },
  {
   "cell_type": "markdown",
   "metadata": {},
   "source": [
    "**Notice changes:** *status = stopped* and *host = port = None*"
   ]
  },
  {
   "cell_type": "markdown",
   "metadata": {},
   "source": [
    "## Delete deployment"
   ]
  },
  {
   "cell_type": "code",
   "execution_count": null,
   "metadata": {},
   "outputs": [],
   "source": [
    "delete_deployment = requests.delete('http://0.0.0.0:8080/deployments/1')\n",
    "delete_deployment.json()"
   ]
  },
  {
   "cell_type": "markdown",
   "metadata": {},
   "source": [
    "list deployments again:"
   ]
  },
  {
   "cell_type": "code",
   "execution_count": null,
   "metadata": {},
   "outputs": [],
   "source": [
    "requests.get('http://0.0.0.0:8080/deployments').json()"
   ]
  },
  {
   "cell_type": "markdown",
   "metadata": {},
   "source": [
    "deployment is deleted!"
   ]
  },
  {
   "cell_type": "code",
   "execution_count": null,
   "metadata": {},
   "outputs": [],
   "source": []
  }
 ],
 "metadata": {
  "kernelspec": {
   "display_name": "Python 3",
   "language": "python",
   "name": "python3"
  },
  "language_info": {
   "codemirror_mode": {
    "name": "ipython",
    "version": 3
   },
   "file_extension": ".py",
   "mimetype": "text/x-python",
   "name": "python",
   "nbconvert_exporter": "python",
   "pygments_lexer": "ipython3",
   "version": "3.7.2"
  }
 },
 "nbformat": 4,
 "nbformat_minor": 2
}
